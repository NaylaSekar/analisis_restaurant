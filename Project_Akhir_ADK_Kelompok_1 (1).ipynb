{
  "cells": [
    {
      "cell_type": "markdown",
      "metadata": {
        "id": "wZ8tx4rHIydE"
      },
      "source": [
        "# Data Loading"
      ]
    },
    {
      "cell_type": "markdown",
      "metadata": {
        "id": "iDeU23NK2jo-"
      },
      "source": [
        "## Install Packages"
      ]
    },
    {
      "cell_type": "code",
      "execution_count": null,
      "metadata": {
        "colab": {
          "base_uri": "https://localhost:8080/"
        },
        "id": "JopivojKmmuT",
        "outputId": "354dda56-c12a-416d-e14f-5129b66ea41b"
      },
      "outputs": [
        {
          "output_type": "stream",
          "name": "stderr",
          "text": [
            "Installing package into ‘/usr/local/lib/R/site-library’\n",
            "(as ‘lib’ is unspecified)\n",
            "\n",
            "Installing package into ‘/usr/local/lib/R/site-library’\n",
            "(as ‘lib’ is unspecified)\n",
            "\n"
          ]
        }
      ],
      "source": [
        "install.packages(\"readr\")\n",
        "install.packages(\"ggplot2\")"
      ]
    },
    {
      "cell_type": "code",
      "execution_count": null,
      "metadata": {
        "colab": {
          "base_uri": "https://localhost:8080/"
        },
        "id": "jiI4nCrdR5m2",
        "outputId": "6364cd46-9d69-4ad8-ba8b-59527352251a"
      },
      "outputs": [
        {
          "output_type": "stream",
          "name": "stderr",
          "text": [
            "Installing package into ‘/usr/local/lib/R/site-library’\n",
            "(as ‘lib’ is unspecified)\n",
            "\n",
            "Installing package into ‘/usr/local/lib/R/site-library’\n",
            "(as ‘lib’ is unspecified)\n",
            "\n",
            "Installing package into ‘/usr/local/lib/R/site-library’\n",
            "(as ‘lib’ is unspecified)\n",
            "\n",
            "also installing the dependencies ‘cowplot’, ‘Deriv’, ‘microbenchmark’, ‘numDeriv’, ‘doBy’, ‘SparseM’, ‘MatrixModels’, ‘minqa’, ‘nloptr’, ‘RcppEigen’, ‘carData’, ‘abind’, ‘Formula’, ‘pbkrtest’, ‘quantreg’, ‘lme4’\n",
            "\n",
            "\n",
            "Installing package into ‘/usr/local/lib/R/site-library’\n",
            "(as ‘lib’ is unspecified)\n",
            "\n",
            "Installing package into ‘/usr/local/lib/R/site-library’\n",
            "(as ‘lib’ is unspecified)\n",
            "\n",
            "also installing the dependency ‘pbapply’\n",
            "\n",
            "\n",
            "Installing package into ‘/usr/local/lib/R/site-library’\n",
            "(as ‘lib’ is unspecified)\n",
            "\n",
            "also installing the dependencies ‘listenv’, ‘parallelly’, ‘future’, ‘globals’, ‘shape’, ‘future.apply’, ‘progressr’, ‘SQUAREM’, ‘diagram’, ‘lava’, ‘prodlim’, ‘proxy’, ‘iterators’, ‘clock’, ‘gower’, ‘hardhat’, ‘ipred’, ‘timeDate’, ‘e1071’, ‘foreach’, ‘ModelMetrics’, ‘plyr’, ‘pROC’, ‘recipes’, ‘reshape2’\n",
            "\n",
            "\n"
          ]
        }
      ],
      "source": [
        "install.packages(\"tidyr\")\n",
        "install.packages(\"dplyr\")\n",
        "install.packages(\"car\")\n",
        "install.packages(\"MASS\")\n",
        "install.packages(\"ResourceSelection\")\n",
        "install.packages(\"caret\")"
      ]
    },
    {
      "cell_type": "code",
      "execution_count": null,
      "metadata": {
        "colab": {
          "base_uri": "https://localhost:8080/"
        },
        "id": "nqpsamJC6v_O",
        "outputId": "fa717694-7a5a-4b91-8cdc-11b732056250"
      },
      "outputs": [
        {
          "output_type": "stream",
          "name": "stderr",
          "text": [
            "\n",
            "Attaching package: ‘dplyr’\n",
            "\n",
            "\n",
            "The following objects are masked from ‘package:stats’:\n",
            "\n",
            "    filter, lag\n",
            "\n",
            "\n",
            "The following objects are masked from ‘package:base’:\n",
            "\n",
            "    intersect, setdiff, setequal, union\n",
            "\n",
            "\n",
            "Loading required package: carData\n",
            "\n",
            "\n",
            "Attaching package: ‘car’\n",
            "\n",
            "\n",
            "The following object is masked from ‘package:dplyr’:\n",
            "\n",
            "    recode\n",
            "\n",
            "\n",
            "\n",
            "Attaching package: ‘MASS’\n",
            "\n",
            "\n",
            "The following object is masked from ‘package:dplyr’:\n",
            "\n",
            "    select\n",
            "\n",
            "\n",
            "ResourceSelection 0.3-6 \t 2023-06-27\n",
            "\n",
            "Loading required package: lattice\n",
            "\n"
          ]
        }
      ],
      "source": [
        "library(tidyr)\n",
        "library(ggplot2)\n",
        "library(dplyr)\n",
        "library(car)\n",
        "library(MASS)\n",
        "library(ResourceSelection)\n",
        "library(caret)"
      ]
    },
    {
      "cell_type": "markdown",
      "metadata": {
        "id": "r2YSa_n22q0Y"
      },
      "source": [
        "## Baca Data"
      ]
    },
    {
      "cell_type": "code",
      "execution_count": null,
      "metadata": {
        "colab": {
          "base_uri": "https://localhost:8080/",
          "height": 306
        },
        "id": "e4sjfuBSDbKb",
        "outputId": "1653c150-eaae-4383-e091-446cbf327232"
      },
      "outputs": [
        {
          "output_type": "display_data",
          "data": {
            "text/html": [
              "<table class=\"dataframe\">\n",
              "<caption>A data.frame: 6 × 19</caption>\n",
              "<thead>\n",
              "\t<tr><th></th><th scope=col>CustomerID</th><th scope=col>Age</th><th scope=col>Gender</th><th scope=col>Income</th><th scope=col>VisitFrequency</th><th scope=col>AverageSpend</th><th scope=col>PreferredCuisine</th><th scope=col>TimeOfVisit</th><th scope=col>GroupSize</th><th scope=col>DiningOccasion</th><th scope=col>MealType</th><th scope=col>OnlineReservation</th><th scope=col>DeliveryOrder</th><th scope=col>LoyaltyProgramMember</th><th scope=col>WaitTime</th><th scope=col>ServiceRating</th><th scope=col>FoodRating</th><th scope=col>AmbianceRating</th><th scope=col>HighSatisfaction</th></tr>\n",
              "\t<tr><th></th><th scope=col>&lt;int&gt;</th><th scope=col>&lt;int&gt;</th><th scope=col>&lt;chr&gt;</th><th scope=col>&lt;int&gt;</th><th scope=col>&lt;chr&gt;</th><th scope=col>&lt;chr&gt;</th><th scope=col>&lt;chr&gt;</th><th scope=col>&lt;chr&gt;</th><th scope=col>&lt;int&gt;</th><th scope=col>&lt;chr&gt;</th><th scope=col>&lt;chr&gt;</th><th scope=col>&lt;int&gt;</th><th scope=col>&lt;int&gt;</th><th scope=col>&lt;int&gt;</th><th scope=col>&lt;chr&gt;</th><th scope=col>&lt;int&gt;</th><th scope=col>&lt;int&gt;</th><th scope=col>&lt;int&gt;</th><th scope=col>&lt;int&gt;</th></tr>\n",
              "</thead>\n",
              "<tbody>\n",
              "\t<tr><th scope=row>1</th><td>654</td><td>35</td><td>Male  </td><td>83380</td><td>Weekly </td><td>27.829.142.002.481.400</td><td>Chinese </td><td>Breakfast</td><td>3</td><td>Business   </td><td>Takeaway</td><td>0</td><td>1</td><td>1</td><td>4.352.392.853.444.240 </td><td>2</td><td>5</td><td>4</td><td>0</td></tr>\n",
              "\t<tr><th scope=row>2</th><td>655</td><td>19</td><td>Male  </td><td>43623</td><td>Rarely </td><td>1.154.086.222.968.230 </td><td>American</td><td>Dinner   </td><td>1</td><td>Casual     </td><td>Dine-in </td><td>0</td><td>0</td><td>0</td><td>57.524.294.460.377.200</td><td>5</td><td>5</td><td>3</td><td>0</td></tr>\n",
              "\t<tr><th scope=row>3</th><td>656</td><td>41</td><td>Female</td><td>83737</td><td>Weekly </td><td>10.669.377.117.040.000</td><td>American</td><td>Dinner   </td><td>6</td><td>Celebration</td><td>Dine-in </td><td>0</td><td>1</td><td>0</td><td>4.868.262.293.174.670 </td><td>3</td><td>4</td><td>5</td><td>0</td></tr>\n",
              "\t<tr><th scope=row>4</th><td>657</td><td>43</td><td>Male  </td><td>96768</td><td>Rarely </td><td>43.508.507.728.537.200</td><td>Indian  </td><td>Lunch    </td><td>1</td><td>Celebration</td><td>Dine-in </td><td>0</td><td>0</td><td>0</td><td>7.552.992.639.069.940 </td><td>4</td><td>5</td><td>1</td><td>0</td></tr>\n",
              "\t<tr><th scope=row>5</th><td>658</td><td>55</td><td>Female</td><td>67937</td><td>Monthly</td><td>1.480.846.271.884.070 </td><td>Chinese </td><td>Breakfast</td><td>1</td><td>Business   </td><td>Takeaway</td><td>0</td><td>0</td><td>1</td><td>3.778.904.074.149.970 </td><td>2</td><td>3</td><td>5</td><td>0</td></tr>\n",
              "\t<tr><th scope=row>6</th><td>659</td><td>42</td><td>Female</td><td>28860</td><td>Monthly</td><td>11.106.469.580.573.000</td><td>Chinese </td><td>Dinner   </td><td>8</td><td>Celebration</td><td>Takeaway</td><td>0</td><td>1</td><td>1</td><td>26.853.297.520.593.700</td><td>4</td><td>5</td><td>3</td><td>0</td></tr>\n",
              "</tbody>\n",
              "</table>\n"
            ],
            "text/markdown": "\nA data.frame: 6 × 19\n\n| <!--/--> | CustomerID &lt;int&gt; | Age &lt;int&gt; | Gender &lt;chr&gt; | Income &lt;int&gt; | VisitFrequency &lt;chr&gt; | AverageSpend &lt;chr&gt; | PreferredCuisine &lt;chr&gt; | TimeOfVisit &lt;chr&gt; | GroupSize &lt;int&gt; | DiningOccasion &lt;chr&gt; | MealType &lt;chr&gt; | OnlineReservation &lt;int&gt; | DeliveryOrder &lt;int&gt; | LoyaltyProgramMember &lt;int&gt; | WaitTime &lt;chr&gt; | ServiceRating &lt;int&gt; | FoodRating &lt;int&gt; | AmbianceRating &lt;int&gt; | HighSatisfaction &lt;int&gt; |\n|---|---|---|---|---|---|---|---|---|---|---|---|---|---|---|---|---|---|---|---|\n| 1 | 654 | 35 | Male   | 83380 | Weekly  | 27.829.142.002.481.400 | Chinese  | Breakfast | 3 | Business    | Takeaway | 0 | 1 | 1 | 4.352.392.853.444.240  | 2 | 5 | 4 | 0 |\n| 2 | 655 | 19 | Male   | 43623 | Rarely  | 1.154.086.222.968.230  | American | Dinner    | 1 | Casual      | Dine-in  | 0 | 0 | 0 | 57.524.294.460.377.200 | 5 | 5 | 3 | 0 |\n| 3 | 656 | 41 | Female | 83737 | Weekly  | 10.669.377.117.040.000 | American | Dinner    | 6 | Celebration | Dine-in  | 0 | 1 | 0 | 4.868.262.293.174.670  | 3 | 4 | 5 | 0 |\n| 4 | 657 | 43 | Male   | 96768 | Rarely  | 43.508.507.728.537.200 | Indian   | Lunch     | 1 | Celebration | Dine-in  | 0 | 0 | 0 | 7.552.992.639.069.940  | 4 | 5 | 1 | 0 |\n| 5 | 658 | 55 | Female | 67937 | Monthly | 1.480.846.271.884.070  | Chinese  | Breakfast | 1 | Business    | Takeaway | 0 | 0 | 1 | 3.778.904.074.149.970  | 2 | 3 | 5 | 0 |\n| 6 | 659 | 42 | Female | 28860 | Monthly | 11.106.469.580.573.000 | Chinese  | Dinner    | 8 | Celebration | Takeaway | 0 | 1 | 1 | 26.853.297.520.593.700 | 4 | 5 | 3 | 0 |\n\n",
            "text/latex": "A data.frame: 6 × 19\n\\begin{tabular}{r|lllllllllllllllllll}\n  & CustomerID & Age & Gender & Income & VisitFrequency & AverageSpend & PreferredCuisine & TimeOfVisit & GroupSize & DiningOccasion & MealType & OnlineReservation & DeliveryOrder & LoyaltyProgramMember & WaitTime & ServiceRating & FoodRating & AmbianceRating & HighSatisfaction\\\\\n  & <int> & <int> & <chr> & <int> & <chr> & <chr> & <chr> & <chr> & <int> & <chr> & <chr> & <int> & <int> & <int> & <chr> & <int> & <int> & <int> & <int>\\\\\n\\hline\n\t1 & 654 & 35 & Male   & 83380 & Weekly  & 27.829.142.002.481.400 & Chinese  & Breakfast & 3 & Business    & Takeaway & 0 & 1 & 1 & 4.352.392.853.444.240  & 2 & 5 & 4 & 0\\\\\n\t2 & 655 & 19 & Male   & 43623 & Rarely  & 1.154.086.222.968.230  & American & Dinner    & 1 & Casual      & Dine-in  & 0 & 0 & 0 & 57.524.294.460.377.200 & 5 & 5 & 3 & 0\\\\\n\t3 & 656 & 41 & Female & 83737 & Weekly  & 10.669.377.117.040.000 & American & Dinner    & 6 & Celebration & Dine-in  & 0 & 1 & 0 & 4.868.262.293.174.670  & 3 & 4 & 5 & 0\\\\\n\t4 & 657 & 43 & Male   & 96768 & Rarely  & 43.508.507.728.537.200 & Indian   & Lunch     & 1 & Celebration & Dine-in  & 0 & 0 & 0 & 7.552.992.639.069.940  & 4 & 5 & 1 & 0\\\\\n\t5 & 658 & 55 & Female & 67937 & Monthly & 1.480.846.271.884.070  & Chinese  & Breakfast & 1 & Business    & Takeaway & 0 & 0 & 1 & 3.778.904.074.149.970  & 2 & 3 & 5 & 0\\\\\n\t6 & 659 & 42 & Female & 28860 & Monthly & 11.106.469.580.573.000 & Chinese  & Dinner    & 8 & Celebration & Takeaway & 0 & 1 & 1 & 26.853.297.520.593.700 & 4 & 5 & 3 & 0\\\\\n\\end{tabular}\n",
            "text/plain": [
              "  CustomerID Age Gender Income VisitFrequency AverageSpend          \n",
              "1 654        35  Male   83380  Weekly         27.829.142.002.481.400\n",
              "2 655        19  Male   43623  Rarely         1.154.086.222.968.230 \n",
              "3 656        41  Female 83737  Weekly         10.669.377.117.040.000\n",
              "4 657        43  Male   96768  Rarely         43.508.507.728.537.200\n",
              "5 658        55  Female 67937  Monthly        1.480.846.271.884.070 \n",
              "6 659        42  Female 28860  Monthly        11.106.469.580.573.000\n",
              "  PreferredCuisine TimeOfVisit GroupSize DiningOccasion MealType\n",
              "1 Chinese          Breakfast   3         Business       Takeaway\n",
              "2 American         Dinner      1         Casual         Dine-in \n",
              "3 American         Dinner      6         Celebration    Dine-in \n",
              "4 Indian           Lunch       1         Celebration    Dine-in \n",
              "5 Chinese          Breakfast   1         Business       Takeaway\n",
              "6 Chinese          Dinner      8         Celebration    Takeaway\n",
              "  OnlineReservation DeliveryOrder LoyaltyProgramMember WaitTime              \n",
              "1 0                 1             1                    4.352.392.853.444.240 \n",
              "2 0                 0             0                    57.524.294.460.377.200\n",
              "3 0                 1             0                    4.868.262.293.174.670 \n",
              "4 0                 0             0                    7.552.992.639.069.940 \n",
              "5 0                 0             1                    3.778.904.074.149.970 \n",
              "6 0                 1             1                    26.853.297.520.593.700\n",
              "  ServiceRating FoodRating AmbianceRating HighSatisfaction\n",
              "1 2             5          4              0               \n",
              "2 5             5          3              0               \n",
              "3 3             4          5              0               \n",
              "4 4             5          1              0               \n",
              "5 2             3          5              0               \n",
              "6 4             5          3              0               "
            ]
          },
          "metadata": {}
        }
      ],
      "source": [
        "url <- \"https://raw.githubusercontent.com/Yuliana1453/Analisis-Data-Customers/refs/heads/main/restaurant_customer_satisfaction.csv\"\n",
        "\n",
        "# Membaca file dengan separator titik koma\n",
        "data <- read.csv(url, sep = \";\")\n",
        "head(data)"
      ]
    },
    {
      "cell_type": "markdown",
      "metadata": {
        "id": "KHhXbuFyGEOt"
      },
      "source": [
        "# Eksplorasi Data"
      ]
    },
    {
      "cell_type": "markdown",
      "metadata": {
        "id": "ygAsVKW126Ic"
      },
      "source": [
        "## Struktur Data"
      ]
    },
    {
      "cell_type": "code",
      "execution_count": null,
      "metadata": {
        "colab": {
          "base_uri": "https://localhost:8080/",
          "height": 624
        },
        "id": "3vskIF9pYqCQ",
        "outputId": "d18f4f47-0333-46c3-f22c-4242d28172d5"
      },
      "outputs": [
        {
          "output_type": "display_data",
          "data": {
            "text/plain": [
              "   CustomerID        Age           Gender              Income      \n",
              " Min.   : 654   Min.   :18.00   Length:1500        Min.   : 20012  \n",
              " 1st Qu.:1029   1st Qu.:31.75   Class :character   1st Qu.: 52444  \n",
              " Median :1404   Median :44.00   Mode  :character   Median : 85811  \n",
              " Mean   :1404   Mean   :43.83                      Mean   : 85922  \n",
              " 3rd Qu.:1778   3rd Qu.:57.00                      3rd Qu.:119159  \n",
              " Max.   :2153   Max.   :69.00                      Max.   :149875  \n",
              " VisitFrequency     AverageSpend       PreferredCuisine   TimeOfVisit       \n",
              " Length:1500        Length:1500        Length:1500        Length:1500       \n",
              " Class :character   Class :character   Class :character   Class :character  \n",
              " Mode  :character   Mode  :character   Mode  :character   Mode  :character  \n",
              "                                                                            \n",
              "                                                                            \n",
              "                                                                            \n",
              "   GroupSize     DiningOccasion       MealType         OnlineReservation\n",
              " Min.   :1.000   Length:1500        Length:1500        Min.   :0.0000   \n",
              " 1st Qu.:3.000   Class :character   Class :character   1st Qu.:0.0000   \n",
              " Median :5.000   Mode  :character   Mode  :character   Median :0.0000   \n",
              " Mean   :5.035                                         Mean   :0.2967   \n",
              " 3rd Qu.:7.000                                         3rd Qu.:1.0000   \n",
              " Max.   :9.000                                         Max.   :1.0000   \n",
              " DeliveryOrder    LoyaltyProgramMember   WaitTime         ServiceRating  \n",
              " Min.   :0.0000   Min.   :0.00         Length:1500        Min.   :1.000  \n",
              " 1st Qu.:0.0000   1st Qu.:0.00         Class :character   1st Qu.:2.000  \n",
              " Median :0.0000   Median :0.00         Mode  :character   Median :3.000  \n",
              " Mean   :0.4053   Mean   :0.48                            Mean   :3.044  \n",
              " 3rd Qu.:1.0000   3rd Qu.:1.00                            3rd Qu.:4.000  \n",
              " Max.   :1.0000   Max.   :1.00                            Max.   :5.000  \n",
              "   FoodRating    AmbianceRating  HighSatisfaction\n",
              " Min.   :1.000   Min.   :1.000   Min.   :0.000   \n",
              " 1st Qu.:2.000   1st Qu.:2.000   1st Qu.:0.000   \n",
              " Median :3.000   Median :3.000   Median :0.000   \n",
              " Mean   :2.997   Mean   :2.987   Mean   :0.134   \n",
              " 3rd Qu.:4.000   3rd Qu.:4.000   3rd Qu.:0.000   \n",
              " Max.   :5.000   Max.   :5.000   Max.   :1.000   "
            ]
          },
          "metadata": {}
        }
      ],
      "source": [
        "summary(data)"
      ]
    },
    {
      "cell_type": "code",
      "execution_count": null,
      "metadata": {
        "colab": {
          "base_uri": "https://localhost:8080/"
        },
        "id": "6FRbNRV2QmrK",
        "outputId": "4fb49b63-9de3-4341-c090-d93e63034460"
      },
      "outputs": [
        {
          "output_type": "stream",
          "name": "stdout",
          "text": [
            "'data.frame':\t1500 obs. of  19 variables:\n",
            " $ CustomerID          : int  654 655 656 657 658 659 660 661 662 663 ...\n",
            " $ Age                 : int  35 19 41 43 55 42 20 51 27 32 ...\n",
            " $ Gender              : chr  \"Male\" \"Male\" \"Female\" \"Male\" ...\n",
            " $ Income              : int  83380 43623 83737 96768 67937 28860 131104 137882 149638 136145 ...\n",
            " $ VisitFrequency      : chr  \"Weekly\" \"Rarely\" \"Weekly\" \"Rarely\" ...\n",
            " $ AverageSpend        : chr  \"27.829.142.002.481.400\" \"1.154.086.222.968.230\" \"10.669.377.117.040.000\" \"43.508.507.728.537.200\" ...\n",
            " $ PreferredCuisine    : chr  \"Chinese\" \"American\" \"American\" \"Indian\" ...\n",
            " $ TimeOfVisit         : chr  \"Breakfast\" \"Dinner\" \"Dinner\" \"Lunch\" ...\n",
            " $ GroupSize           : int  3 1 6 1 1 8 6 6 5 9 ...\n",
            " $ DiningOccasion      : chr  \"Business\" \"Casual\" \"Celebration\" \"Celebration\" ...\n",
            " $ MealType            : chr  \"Takeaway\" \"Dine-in\" \"Dine-in\" \"Dine-in\" ...\n",
            " $ OnlineReservation   : int  0 0 0 0 0 0 0 1 0 0 ...\n",
            " $ DeliveryOrder       : int  1 0 1 0 0 1 0 1 1 0 ...\n",
            " $ LoyaltyProgramMember: int  1 0 0 0 1 1 0 0 0 0 ...\n",
            " $ WaitTime            : chr  \"4.352.392.853.444.240\" \"57.524.294.460.377.200\" \"4.868.262.293.174.670\" \"7.552.992.639.069.940\" ...\n",
            " $ ServiceRating       : int  2 5 3 4 2 4 5 4 2 4 ...\n",
            " $ FoodRating          : int  5 5 4 5 3 5 4 3 4 3 ...\n",
            " $ AmbianceRating      : int  4 3 5 1 5 3 1 3 5 1 ...\n",
            " $ HighSatisfaction    : int  0 0 0 0 0 0 0 0 0 0 ...\n"
          ]
        }
      ],
      "source": [
        "str(data)"
      ]
    },
    {
      "cell_type": "markdown",
      "metadata": {
        "id": "wgNhxCDT6yq4"
      },
      "source": [
        "## Ubah Tipe Data"
      ]
    },
    {
      "cell_type": "code",
      "execution_count": null,
      "metadata": {
        "id": "qhuhTSksJIZw"
      },
      "outputs": [],
      "source": [
        "# Ubah tipe data menjadi numeric\n",
        "data$AverageSpend <- as.numeric(gsub(\"\\\\.\", \"\", data$AverageSpend))\n",
        "data$WaitTime <- as.numeric(gsub(\"\\\\.\", \"\", data$WaitTime))\n",
        "\n",
        "# Ubah tipe data menjadi factor\n",
        "data$Gender <- as.factor(data$Gender)\n",
        "data$PreferredCuisine <- as.factor(data$PreferredCuisine)\n",
        "data$VisitFrequency <- as.factor(data$VisitFrequency)\n",
        "data$TimeOfVisit <- as.factor(data$TimeOfVisit)\n",
        "data$DiningOccasion <- as.factor(data$DiningOccasion)\n",
        "data$MealType <- as.factor(data$MealType)\n",
        "data$OnlineReservation <- as.factor(data$OnlineReservation)\n",
        "data$DeliveryOrder <- as.factor(data$DeliveryOrder)\n",
        "data$LoyaltyProgramMember <- as.factor(data$LoyaltyProgramMember)\n",
        "data$HighSatisfaction <- as.factor(data$HighSatisfaction)"
      ]
    },
    {
      "cell_type": "markdown",
      "metadata": {
        "id": "wJGrpMFu62fC"
      },
      "source": [
        "## Ringkasan Data"
      ]
    },
    {
      "cell_type": "code",
      "execution_count": null,
      "metadata": {
        "colab": {
          "base_uri": "https://localhost:8080/",
          "height": 624
        },
        "id": "arMxaYQbGXrw",
        "outputId": "c1b513b6-517b-4aee-859b-50400b37feb0"
      },
      "outputs": [
        {
          "output_type": "display_data",
          "data": {
            "text/plain": [
              "   CustomerID        Age           Gender        Income       VisitFrequency\n",
              " Min.   : 654   Min.   :18.00   Female:759   Min.   : 20012   Daily  :153   \n",
              " 1st Qu.:1029   1st Qu.:31.75   Male  :741   1st Qu.: 52444   Monthly:428   \n",
              " Median :1404   Median :44.00                Median : 85811   Rarely :313   \n",
              " Mean   :1404   Mean   :43.83                Mean   : 85922   Weekly :606   \n",
              " 3rd Qu.:1778   3rd Qu.:57.00                3rd Qu.:119159                 \n",
              " Max.   :2153   Max.   :69.00                Max.   :149875                 \n",
              "  AverageSpend       PreferredCuisine    TimeOfVisit    GroupSize    \n",
              " Min.   :1.161e+13   American:270     Breakfast:506   Min.   :1.000  \n",
              " 1st Qu.:5.217e+15   Chinese :310     Dinner   :492   1st Qu.:3.000  \n",
              " Median :1.043e+16   Indian  :296     Lunch    :502   Median :5.000  \n",
              " Mean   :1.203e+16   Italian :325                     Mean   :5.035  \n",
              " 3rd Qu.:1.561e+16   Mexican :299                     3rd Qu.:7.000  \n",
              " Max.   :6.394e+16                                    Max.   :9.000  \n",
              "     DiningOccasion     MealType   OnlineReservation DeliveryOrder\n",
              " Business   :500    Dine-in :751   0:1055            0:892        \n",
              " Casual     :481    Takeaway:749   1: 445            1:608        \n",
              " Celebration:519                                                  \n",
              "                                                                  \n",
              "                                                                  \n",
              "                                                                  \n",
              " LoyaltyProgramMember    WaitTime         ServiceRating     FoodRating   \n",
              " 0:780                Min.   :8.696e+12   Min.   :1.000   Min.   :1.000  \n",
              " 1:720                1st Qu.:3.853e+15   1st Qu.:2.000   1st Qu.:2.000  \n",
              "                      Median :5.900e+15   Median :3.000   Median :3.000  \n",
              "                      Mean   :1.492e+16   Mean   :3.044   Mean   :2.997  \n",
              "                      3rd Qu.:2.360e+16   3rd Qu.:4.000   3rd Qu.:4.000  \n",
              "                      Max.   :7.913e+16   Max.   :5.000   Max.   :5.000  \n",
              " AmbianceRating  HighSatisfaction\n",
              " Min.   :1.000   0:1299          \n",
              " 1st Qu.:2.000   1: 201          \n",
              " Median :3.000                   \n",
              " Mean   :2.987                   \n",
              " 3rd Qu.:4.000                   \n",
              " Max.   :5.000                   "
            ]
          },
          "metadata": {}
        }
      ],
      "source": [
        "summary(data)"
      ]
    },
    {
      "cell_type": "markdown",
      "metadata": {
        "id": "4dOkjUTC6533"
      },
      "source": [
        "## Cek Missing Value"
      ]
    },
    {
      "cell_type": "code",
      "execution_count": null,
      "metadata": {
        "colab": {
          "base_uri": "https://localhost:8080/",
          "height": 34
        },
        "id": "43iU787NGa1B",
        "outputId": "30372316-1661-4dfe-bdf4-e8de8d93cef2"
      },
      "outputs": [
        {
          "output_type": "display_data",
          "data": {
            "text/html": [
              "0"
            ],
            "text/markdown": "0",
            "text/latex": "0",
            "text/plain": [
              "[1] 0"
            ]
          },
          "metadata": {}
        }
      ],
      "source": [
        "sum(is.na(data))"
      ]
    },
    {
      "cell_type": "markdown",
      "metadata": {
        "id": "H8A_EMpE69KR"
      },
      "source": [
        "## Cek Distribusi Target"
      ]
    },
    {
      "cell_type": "code",
      "execution_count": null,
      "metadata": {
        "colab": {
          "base_uri": "https://localhost:8080/",
          "height": 69
        },
        "id": "qa7--FcIGi6B",
        "outputId": "6ffbacb1-ccba-4111-a093-d899259802f7"
      },
      "outputs": [
        {
          "output_type": "display_data",
          "data": {
            "text/plain": [
              "\n",
              "   0    1 \n",
              "1299  201 "
            ]
          },
          "metadata": {}
        }
      ],
      "source": [
        "table(data$HighSatisfaction)"
      ]
    },
    {
      "cell_type": "markdown",
      "metadata": {
        "id": "g-9fl-uS7Gwu"
      },
      "source": [
        "## Melihat Distribusi Variabel Numerik"
      ]
    },
    {
      "cell_type": "code",
      "execution_count": null,
      "metadata": {
        "colab": {
          "base_uri": "https://localhost:8080/"
        },
        "id": "yhKDJjs4OAlj",
        "outputId": "4908e187-2915-4f1b-b204-b1aeca7ec34e"
      },
      "outputs": [
        {
          "output_type": "stream",
          "name": "stdout",
          "text": [
            "T-Test for Age \n",
            "\n",
            "\tWelch Two Sample t-test\n",
            "\n",
            "data:  data[[col]] by data$HighSatisfaction\n",
            "t = -1.3732, df = 265.22, p-value = 0.1709\n",
            "alternative hypothesis: true difference in means between group 0 and group 1 is not equal to 0\n",
            "95 percent confidence interval:\n",
            " -3.799964  0.677378\n",
            "sample estimates:\n",
            "mean in group 0 mean in group 1 \n",
            "       43.62279        45.18408 \n",
            "\n",
            "\n",
            "\n",
            "T-Test for Income \n",
            "\n",
            "\tWelch Two Sample t-test\n",
            "\n",
            "data:  data[[col]] by data$HighSatisfaction\n",
            "t = -3.4745, df = 284.88, p-value = 0.0005914\n",
            "alternative hypothesis: true difference in means between group 0 and group 1 is not equal to 0\n",
            "95 percent confidence interval:\n",
            " -14376.670  -3978.461\n",
            "sample estimates:\n",
            "mean in group 0 mean in group 1 \n",
            "       84692.10        93869.66 \n",
            "\n",
            "\n",
            "\n",
            "T-Test for AverageSpend \n",
            "\n",
            "\tWelch Two Sample t-test\n",
            "\n",
            "data:  data[[col]] by data$HighSatisfaction\n",
            "t = 0.98425, df = 264.46, p-value = 0.3259\n",
            "alternative hypothesis: true difference in means between group 0 and group 1 is not equal to 0\n",
            "95 percent confidence interval:\n",
            " -8.122197e+14  2.435860e+15\n",
            "sample estimates:\n",
            "mean in group 0 mean in group 1 \n",
            "   1.213917e+16    1.132735e+16 \n",
            "\n",
            "\n",
            "\n",
            "T-Test for GroupSize \n",
            "\n",
            "\tWelch Two Sample t-test\n",
            "\n",
            "data:  data[[col]] by data$HighSatisfaction\n",
            "t = 3.3431, df = 269.91, p-value = 0.0009457\n",
            "alternative hypothesis: true difference in means between group 0 and group 1 is not equal to 0\n",
            "95 percent confidence interval:\n",
            " 0.2600255 1.0050349\n",
            "sample estimates:\n",
            "mean in group 0 mean in group 1 \n",
            "       5.120092        4.487562 \n",
            "\n",
            "\n",
            "\n",
            "T-Test for WaitTime \n",
            "\n",
            "\tWelch Two Sample t-test\n",
            "\n",
            "data:  data[[col]] by data$HighSatisfaction\n",
            "t = 1.3149, df = 292.38, p-value = 0.1896\n",
            "alternative hypothesis: true difference in means between group 0 and group 1 is not equal to 0\n",
            "95 percent confidence interval:\n",
            " -6.968851e+14  3.502612e+15\n",
            "sample estimates:\n",
            "mean in group 0 mean in group 1 \n",
            "   1.510902e+16    1.370616e+16 \n",
            "\n",
            "\n",
            "\n",
            "T-Test for ServiceRating \n",
            "\n",
            "\tWelch Two Sample t-test\n",
            "\n",
            "data:  data[[col]] by data$HighSatisfaction\n",
            "t = -3.4587, df = 264.43, p-value = 0.0006324\n",
            "alternative hypothesis: true difference in means between group 0 and group 1 is not equal to 0\n",
            "95 percent confidence interval:\n",
            " -0.5874082 -0.1612274\n",
            "sample estimates:\n",
            "mean in group 0 mean in group 1 \n",
            "       2.993841        3.368159 \n",
            "\n",
            "\n",
            "\n",
            "T-Test for FoodRating \n",
            "\n",
            "\tWelch Two Sample t-test\n",
            "\n",
            "data:  data[[col]] by data$HighSatisfaction\n",
            "t = -5.2181, df = 258.88, p-value = 3.709e-07\n",
            "alternative hypothesis: true difference in means between group 0 and group 1 is not equal to 0\n",
            "95 percent confidence interval:\n",
            " -0.7955352 -0.3596128\n",
            "sample estimates:\n",
            "mean in group 0 mean in group 1 \n",
            "       2.919938        3.497512 \n",
            "\n",
            "\n",
            "\n",
            "T-Test for AmbianceRating \n",
            "\n",
            "\tWelch Two Sample t-test\n",
            "\n",
            "data:  data[[col]] by data$HighSatisfaction\n",
            "t = -2.9692, df = 262.89, p-value = 0.003261\n",
            "alternative hypothesis: true difference in means between group 0 and group 1 is not equal to 0\n",
            "95 percent confidence interval:\n",
            " -0.5498355 -0.1113620\n",
            "sample estimates:\n",
            "mean in group 0 mean in group 1 \n",
            "       2.943033        3.273632 \n",
            "\n",
            "\n",
            "\n"
          ]
        }
      ],
      "source": [
        "# Menentukan kolom numerik (kecuali CustomerID)\n",
        "numeric_columns <- names(data)[sapply(data, is.numeric)]\n",
        "numeric_columns <- setdiff(numeric_columns, \"CustomerID\")\n",
        "\n",
        "# Melakukan t-test untuk setiap variabel numerik\n",
        "for (col in numeric_columns) {\n",
        "  cat(\"T-Test for\", col, \"\\n\")\n",
        "  print(t.test(data[[col]] ~ data$HighSatisfaction))\n",
        "  cat(\"\\n\\n\")\n",
        "}"
      ]
    },
    {
      "cell_type": "code",
      "execution_count": null,
      "metadata": {
        "colab": {
          "base_uri": "https://localhost:8080/",
          "height": 857
        },
        "id": "v7eWnApBUfh3",
        "outputId": "08c68aec-49f7-4582-9773-d513459b27f0"
      },
      "outputs": [
        {
          "output_type": "display_data",
          "data": {
            "text/plain": [
              "Plot with title “GroupSize vs HighSatisfaction”"
            ],
            "image/png": "[encoded data removed]"
          },
          "metadata": {
            "image/png": {
              "width": 420,
              "height": 420
            }
          }
        },
        {
          "output_type": "display_data",
          "data": {
            "text/plain": [
              "Plot with title “AmbianceRating vs HighSatisfaction”"
            ],
            "image/png": "[encoded data removed]"
          },
          "metadata": {
            "image/png": {
              "width": 420,
              "height": 420
            }
          }
        }
      ],
      "source": [
        "# Membagi layout menjadi 2 baris dan 2 kolom\n",
        "par(mfrow = c(2, 2))\n",
        "\n",
        "# Membuat boxplot untuk setiap variabel numerik\n",
        "for (col in numeric_columns) {\n",
        "  boxplot(data[[col]] ~ data$HighSatisfaction,\n",
        "          data = data,\n",
        "          main = paste(col, \"vs HighSatisfaction\"),\n",
        "          xlab = \"High Satisfaction (0 = No, 1 = Yes)\",\n",
        "          ylab = col,\n",
        "          col = c(\"lightblue\", \"lightgreen\"),\n",
        "          border = \"darkblue\",\n",
        "          notch = TRUE,\n",
        "          horizontal = FALSE)\n",
        "}"
      ]
    },
    {
      "cell_type": "markdown",
      "metadata": {
        "id": "H8XWtR9Faany"
      },
      "source": [
        "Jadi, variabel yang tidak signifikan secara statistik dan sebaiknya dieliminasi adalah **Age**, **AverageSpend**, dan **WaitTime**.\n",
        "\n",
        "Variabel-variabel lainnya seperti **Income**, **GroupSize**, **ServiceRating**, **FoodRating**, dan **AmbianceRating** memiliki p-value kurang dari 0.05, yang berarti mereka memiliki perbedaan yang signifikan antara kelompok-kelompok HighSatisfaction dan dapat dipertimbangkan untuk dimasukkan ke dalam model."
      ]
    },
    {
      "cell_type": "markdown",
      "metadata": {
        "id": "2CPFXKZG7W1m"
      },
      "source": [
        "## Melihat Distribusi Variabel Kategorik"
      ]
    },
    {
      "cell_type": "code",
      "execution_count": null,
      "metadata": {
        "colab": {
          "base_uri": "https://localhost:8080/"
        },
        "id": "kf6PPXufQVIy",
        "outputId": "399c0187-7744-4d71-dc85-c0ba17c9b824"
      },
      "outputs": [
        {
          "output_type": "stream",
          "name": "stdout",
          "text": [
            "Chi-Square Test for Gender \n",
            "\n",
            "\tPearson's Chi-squared test with Yates' continuity correction\n",
            "\n",
            "data:  table(data[[col]], data$HighSatisfaction)\n",
            "X-squared = 0.033427, df = 1, p-value = 0.8549\n",
            "\n",
            "\n",
            "\n",
            "Chi-Square Test for VisitFrequency \n",
            "\n",
            "\tPearson's Chi-squared test\n",
            "\n",
            "data:  table(data[[col]], data$HighSatisfaction)\n",
            "X-squared = 50.63, df = 3, p-value = 5.865e-11\n",
            "\n",
            "\n",
            "\n",
            "Chi-Square Test for PreferredCuisine \n",
            "\n",
            "\tPearson's Chi-squared test\n",
            "\n",
            "data:  table(data[[col]], data$HighSatisfaction)\n",
            "X-squared = 2.1452, df = 4, p-value = 0.7091\n",
            "\n",
            "\n",
            "\n",
            "Chi-Square Test for TimeOfVisit \n",
            "\n",
            "\tPearson's Chi-squared test\n",
            "\n",
            "data:  table(data[[col]], data$HighSatisfaction)\n",
            "X-squared = 0.79637, df = 2, p-value = 0.6715\n",
            "\n",
            "\n",
            "\n",
            "Chi-Square Test for DiningOccasion \n",
            "\n",
            "\tPearson's Chi-squared test\n",
            "\n",
            "data:  table(data[[col]], data$HighSatisfaction)\n",
            "X-squared = 25.671, df = 2, p-value = 2.664e-06\n",
            "\n",
            "\n",
            "\n",
            "Chi-Square Test for MealType \n",
            "\n",
            "\tPearson's Chi-squared test with Yates' continuity correction\n",
            "\n",
            "data:  table(data[[col]], data$HighSatisfaction)\n",
            "X-squared = 31.232, df = 1, p-value = 2.29e-08\n",
            "\n",
            "\n",
            "\n",
            "Chi-Square Test for OnlineReservation \n",
            "\n",
            "\tPearson's Chi-squared test with Yates' continuity correction\n",
            "\n",
            "data:  table(data[[col]], data$HighSatisfaction)\n",
            "X-squared = 55.433, df = 1, p-value = 9.67e-14\n",
            "\n",
            "\n",
            "\n",
            "Chi-Square Test for DeliveryOrder \n",
            "\n",
            "\tPearson's Chi-squared test with Yates' continuity correction\n",
            "\n",
            "data:  table(data[[col]], data$HighSatisfaction)\n",
            "X-squared = 40.12, df = 1, p-value = 2.388e-10\n",
            "\n",
            "\n",
            "\n",
            "Chi-Square Test for LoyaltyProgramMember \n",
            "\n",
            "\tPearson's Chi-squared test with Yates' continuity correction\n",
            "\n",
            "data:  table(data[[col]], data$HighSatisfaction)\n",
            "X-squared = 38.729, df = 1, p-value = 4.87e-10\n",
            "\n",
            "\n",
            "\n",
            "Chi-Square Test for HighSatisfaction \n",
            "\n",
            "\tPearson's Chi-squared test with Yates' continuity correction\n",
            "\n",
            "data:  table(data[[col]], data$HighSatisfaction)\n",
            "X-squared = 1491.4, df = 1, p-value < 2.2e-16\n",
            "\n",
            "\n",
            "\n"
          ]
        }
      ],
      "source": [
        "# Menentukan kolom kategorik (kecuali CustomerID)\n",
        "categorical_columns <- names(data)[sapply(data, is.factor)]\n",
        "categorical_columns <- setdiff(categorical_columns, \"CustomerID\")\n",
        "\n",
        "# Melakukan Chi-Square Test untuk setiap variabel kategorik\n",
        "for (col in categorical_columns) {\n",
        "  cat(\"Chi-Square Test for\", col, \"\\n\")\n",
        "  print(chisq.test(table(data[[col]], data$HighSatisfaction)))\n",
        "  cat(\"\\n\\n\")\n",
        "}"
      ]
    },
    {
      "cell_type": "code",
      "execution_count": null,
      "metadata": {
        "colab": {
          "base_uri": "https://localhost:8080/",
          "height": 437
        },
        "id": "3KevNhRvXHqX",
        "outputId": "e2f40b48-ee27-496f-b818-886c1d012ba1"
      },
      "outputs": [
        {
          "output_type": "display_data",
          "data": {
            "text/plain": [
              "plot without title"
            ],
            "image/png": "[encoded data removed]"
          },
          "metadata": {
            "image/png": {
              "width": 420,
              "height": 420
            }
          }
        }
      ],
      "source": [
        "library(dplyr)\n",
        "# Transformasi data ke format long\n",
        "data_long <- data %>%\n",
        "  dplyr::select(-CustomerID) %>%  # Use dplyr::select explicitly\n",
        "  pivot_longer(cols = c(Gender, VisitFrequency, PreferredCuisine, TimeOfVisit, DiningOccasion, MealType),\n",
        "               names_to = \"Variable\", values_to = \"Category\")\n",
        "\n",
        "# Visualisasi menggunakan ggplot\n",
        "ggplot(data_long, aes(x = Category, fill = factor(HighSatisfaction))) +\n",
        "  geom_bar(position = \"dodge\") +\n",
        "  facet_wrap(~ Variable, scales = \"free_x\") +\n",
        "  labs(title = \"Bar Plot of Categorical Variables vs HighSatisfaction\",\n",
        "       x = \"Category\", y = \"Count\") +\n",
        "  theme(axis.text.x = element_text(angle = 45, hjust = 1))"
      ]
    },
    {
      "cell_type": "markdown",
      "metadata": {
        "id": "XTQm0jwGBjm5"
      },
      "source": [
        "## Cek Korelasi Variabel Numerik"
      ]
    },
    {
      "cell_type": "code",
      "execution_count": null,
      "metadata": {
        "colab": {
          "base_uri": "https://localhost:8080/",
          "height": 192
        },
        "id": "Szmu0MTyAGms",
        "outputId": "22d785ac-41fd-4018-f4c9-a5a7e6aa30be"
      },
      "outputs": [
        {
          "output_type": "display_data",
          "data": {
            "text/html": [
              "<table class=\"dataframe\">\n",
              "<caption>A matrix: 4 × 4 of type dbl</caption>\n",
              "<thead>\n",
              "\t<tr><th></th><th scope=col>Income</th><th scope=col>GroupSize</th><th scope=col>ServiceRating</th><th scope=col>FoodRating</th></tr>\n",
              "</thead>\n",
              "<tbody>\n",
              "\t<tr><th scope=row>Income</th><td> 1.00000000</td><td>0.06289172</td><td>0.012368728</td><td>-0.018925328</td></tr>\n",
              "\t<tr><th scope=row>GroupSize</th><td> 0.06289172</td><td>1.00000000</td><td>0.035471589</td><td> 0.056249045</td></tr>\n",
              "\t<tr><th scope=row>ServiceRating</th><td> 0.01236873</td><td>0.03547159</td><td>1.000000000</td><td> 0.005012671</td></tr>\n",
              "\t<tr><th scope=row>FoodRating</th><td>-0.01892533</td><td>0.05624904</td><td>0.005012671</td><td> 1.000000000</td></tr>\n",
              "</tbody>\n",
              "</table>\n"
            ],
            "text/markdown": "\nA matrix: 4 × 4 of type dbl\n\n| <!--/--> | Income | GroupSize | ServiceRating | FoodRating |\n|---|---|---|---|---|\n| Income |  1.00000000 | 0.06289172 | 0.012368728 | -0.018925328 |\n| GroupSize |  0.06289172 | 1.00000000 | 0.035471589 |  0.056249045 |\n| ServiceRating |  0.01236873 | 0.03547159 | 1.000000000 |  0.005012671 |\n| FoodRating | -0.01892533 | 0.05624904 | 0.005012671 |  1.000000000 |\n\n",
            "text/latex": "A matrix: 4 × 4 of type dbl\n\\begin{tabular}{r|llll}\n  & Income & GroupSize & ServiceRating & FoodRating\\\\\n\\hline\n\tIncome &  1.00000000 & 0.06289172 & 0.012368728 & -0.018925328\\\\\n\tGroupSize &  0.06289172 & 1.00000000 & 0.035471589 &  0.056249045\\\\\n\tServiceRating &  0.01236873 & 0.03547159 & 1.000000000 &  0.005012671\\\\\n\tFoodRating & -0.01892533 & 0.05624904 & 0.005012671 &  1.000000000\\\\\n\\end{tabular}\n",
            "text/plain": [
              "              Income      GroupSize  ServiceRating FoodRating  \n",
              "Income         1.00000000 0.06289172 0.012368728   -0.018925328\n",
              "GroupSize      0.06289172 1.00000000 0.035471589    0.056249045\n",
              "ServiceRating  0.01236873 0.03547159 1.000000000    0.005012671\n",
              "FoodRating    -0.01892533 0.05624904 0.005012671    1.000000000"
            ]
          },
          "metadata": {}
        }
      ],
      "source": [
        "cor(data[c(\"Income\", \"GroupSize\", \"ServiceRating\", \"FoodRating\")])"
      ]
    },
    {
      "cell_type": "markdown",
      "metadata": {
        "id": "H7xyu_2CZ7F6"
      },
      "source": [
        "# Model Buildings"
      ]
    },
    {
      "cell_type": "markdown",
      "metadata": {
        "id": "GJAe_PmCIHfD"
      },
      "source": [
        "## Model"
      ]
    },
    {
      "cell_type": "markdown",
      "metadata": {
        "id": "PRSPqe9Z9ntB"
      },
      "source": [
        "###Sederhana\n",
        "\n",
        "Model ini dibangun oleh variabel yang kita asumsikan signifikan berdasarkan nilai p-value pada proses EDA sebelumnya."
      ]
    },
    {
      "cell_type": "code",
      "execution_count": null,
      "metadata": {
        "id": "H092DpGZsyEB"
      },
      "outputs": [],
      "source": [
        "data.sederhana <- glm(HighSatisfaction ~ Income + GroupSize + ServiceRating + FoodRating + AmbianceRating + VisitFrequency + DiningOccasion\n",
        "                                          + MealType + OnlineReservation + DeliveryOrder + LoyaltyProgramMember , data = data, family = binomial)"
      ]
    },
    {
      "cell_type": "code",
      "execution_count": null,
      "metadata": {
        "colab": {
          "base_uri": "https://localhost:8080/",
          "height": 411
        },
        "id": "PMLAjpmP9F2W",
        "outputId": "1e032971-5c22-4c89-ecd1-0586b0ceaa60"
      },
      "outputs": [
        {
          "output_type": "display_data",
          "data": {
            "text/html": [
              "<table class=\"dataframe\">\n",
              "<caption>A matrix: 11 × 3 of type dbl</caption>\n",
              "<thead>\n",
              "\t<tr><th></th><th scope=col>GVIF</th><th scope=col>Df</th><th scope=col>GVIF^(1/(2*Df))</th></tr>\n",
              "</thead>\n",
              "<tbody>\n",
              "\t<tr><th scope=row>Income</th><td>1.045526</td><td>1</td><td>1.022510</td></tr>\n",
              "\t<tr><th scope=row>GroupSize</th><td>1.102181</td><td>1</td><td>1.049848</td></tr>\n",
              "\t<tr><th scope=row>ServiceRating</th><td>1.044400</td><td>1</td><td>1.021959</td></tr>\n",
              "\t<tr><th scope=row>FoodRating</th><td>1.060466</td><td>1</td><td>1.029789</td></tr>\n",
              "\t<tr><th scope=row>AmbianceRating</th><td>1.047752</td><td>1</td><td>1.023598</td></tr>\n",
              "\t<tr><th scope=row>VisitFrequency</th><td>1.072452</td><td>3</td><td>1.011726</td></tr>\n",
              "\t<tr><th scope=row>DiningOccasion</th><td>1.063948</td><td>2</td><td>1.015617</td></tr>\n",
              "\t<tr><th scope=row>MealType</th><td>1.041137</td><td>1</td><td>1.020361</td></tr>\n",
              "\t<tr><th scope=row>OnlineReservation</th><td>1.099028</td><td>1</td><td>1.048345</td></tr>\n",
              "\t<tr><th scope=row>DeliveryOrder</th><td>1.062194</td><td>1</td><td>1.030628</td></tr>\n",
              "\t<tr><th scope=row>LoyaltyProgramMember</th><td>1.035532</td><td>1</td><td>1.017611</td></tr>\n",
              "</tbody>\n",
              "</table>\n"
            ],
            "text/markdown": "\nA matrix: 11 × 3 of type dbl\n\n| <!--/--> | GVIF | Df | GVIF^(1/(2*Df)) |\n|---|---|---|---|\n| Income | 1.045526 | 1 | 1.022510 |\n| GroupSize | 1.102181 | 1 | 1.049848 |\n| ServiceRating | 1.044400 | 1 | 1.021959 |\n| FoodRating | 1.060466 | 1 | 1.029789 |\n| AmbianceRating | 1.047752 | 1 | 1.023598 |\n| VisitFrequency | 1.072452 | 3 | 1.011726 |\n| DiningOccasion | 1.063948 | 2 | 1.015617 |\n| MealType | 1.041137 | 1 | 1.020361 |\n| OnlineReservation | 1.099028 | 1 | 1.048345 |\n| DeliveryOrder | 1.062194 | 1 | 1.030628 |\n| LoyaltyProgramMember | 1.035532 | 1 | 1.017611 |\n\n",
            "text/latex": "A matrix: 11 × 3 of type dbl\n\\begin{tabular}{r|lll}\n  & GVIF & Df & GVIF\\textasciicircum{}(1/(2*Df))\\\\\n\\hline\n\tIncome & 1.045526 & 1 & 1.022510\\\\\n\tGroupSize & 1.102181 & 1 & 1.049848\\\\\n\tServiceRating & 1.044400 & 1 & 1.021959\\\\\n\tFoodRating & 1.060466 & 1 & 1.029789\\\\\n\tAmbianceRating & 1.047752 & 1 & 1.023598\\\\\n\tVisitFrequency & 1.072452 & 3 & 1.011726\\\\\n\tDiningOccasion & 1.063948 & 2 & 1.015617\\\\\n\tMealType & 1.041137 & 1 & 1.020361\\\\\n\tOnlineReservation & 1.099028 & 1 & 1.048345\\\\\n\tDeliveryOrder & 1.062194 & 1 & 1.030628\\\\\n\tLoyaltyProgramMember & 1.035532 & 1 & 1.017611\\\\\n\\end{tabular}\n",
            "text/plain": [
              "                     GVIF     Df GVIF^(1/(2*Df))\n",
              "Income               1.045526 1  1.022510       \n",
              "GroupSize            1.102181 1  1.049848       \n",
              "ServiceRating        1.044400 1  1.021959       \n",
              "FoodRating           1.060466 1  1.029789       \n",
              "AmbianceRating       1.047752 1  1.023598       \n",
              "VisitFrequency       1.072452 3  1.011726       \n",
              "DiningOccasion       1.063948 2  1.015617       \n",
              "MealType             1.041137 1  1.020361       \n",
              "OnlineReservation    1.099028 1  1.048345       \n",
              "DeliveryOrder        1.062194 1  1.030628       \n",
              "LoyaltyProgramMember 1.035532 1  1.017611       "
            ]
          },
          "metadata": {}
        }
      ],
      "source": [
        "# Cek multikolinearitas dengan VIF\n",
        "vif_values <- vif(data.sederhana)\n",
        "vif_values"
      ]
    },
    {
      "cell_type": "markdown",
      "metadata": {
        "id": "1XYnFosG_0SL"
      },
      "source": [
        "###Interaksi\n",
        "\n",
        "Model ini dibangun oleh hasil interaksi dari 11 variabel yang signifikan dan menggunakan domain knowledge untuk mengidentifikasi variabel yang kemungkinan memiliki interaksi."
      ]
    },
    {
      "cell_type": "code",
      "execution_count": null,
      "metadata": {
        "id": "ZQ43xt8jCFwQ"
      },
      "outputs": [],
      "source": [
        "data.interaction <- glm(HighSatisfaction ~  Income * GroupSize + ServiceRating * FoodRating + ServiceRating * DiningOccasion + AmbianceRating * DiningOccasion +\n",
        "                                             VisitFrequency * LoyaltyProgramMember + GroupSize * ServiceRating + OnlineReservation * AmbianceRating +\n",
        "                                             MealType * FoodRating + Income * DiningOccasion + DeliveryOrder * FoodRating + AmbianceRating * FoodRating + OnlineReservation * DeliveryOrder,\n",
        "                                             data = data, family = binomial)"
      ]
    },
    {
      "cell_type": "markdown",
      "metadata": {
        "id": "3-7290-wFtSz"
      },
      "source": [
        "###Full Model\n",
        "\n",
        "Kombinasi model sederhana1 dan interaksi2.\n"
      ]
    },
    {
      "cell_type": "code",
      "execution_count": null,
      "metadata": {
        "id": "wo14gh8Sad6_"
      },
      "outputs": [],
      "source": [
        "data.full_model <- glm(HighSatisfaction ~ Income + GroupSize + ServiceRating + FoodRating + AmbianceRating + VisitFrequency + DiningOccasion +\n",
        "                                           MealType + OnlineReservation + DeliveryOrder + LoyaltyProgramMember + Income * GroupSize + ServiceRating * FoodRating +\n",
        "                                           ServiceRating * DiningOccasion + AmbianceRating * DiningOccasion + VisitFrequency * LoyaltyProgramMember +\n",
        "                                           GroupSize * ServiceRating + OnlineReservation * AmbianceRating + MealType * FoodRating + Income * DiningOccasion +\n",
        "                                           DeliveryOrder * FoodRating + AmbianceRating * FoodRating + OnlineReservation * DeliveryOrder, data = data, family = binomial)"
      ]
    },
    {
      "cell_type": "code",
      "source": [],
      "metadata": {
        "id": "DXTCT2_Rq15S"
      },
      "execution_count": null,
      "outputs": []
    },
    {
      "cell_type": "markdown",
      "metadata": {
        "id": "vJGkex-HXgIi"
      },
      "source": [
        "# Seleksi model"
      ]
    },
    {
      "cell_type": "markdown",
      "metadata": {
        "id": "H-NowalAQp9r"
      },
      "source": [
        "### Backward selection"
      ]
    },
    {
      "cell_type": "code",
      "execution_count": null,
      "metadata": {
        "colab": {
          "base_uri": "https://localhost:8080/",
          "height": 919
        },
        "id": "zJ5CxNryQoGI",
        "outputId": "acfc33b2-5f77-4d6e-e8af-32e607b5678f"
      },
      "outputs": [
        {
          "output_type": "stream",
          "name": "stdout",
          "text": [
            "Start:  AIC=857.23\n",
            "HighSatisfaction ~ Income + GroupSize + ServiceRating + FoodRating + \n",
            "    AmbianceRating + VisitFrequency + DiningOccasion + MealType + \n",
            "    OnlineReservation + DeliveryOrder + LoyaltyProgramMember\n",
            "\n",
            "                       Df Deviance    AIC\n",
            "<none>                      827.23 857.23\n",
            "- Income                1   845.55 873.55\n",
            "- AmbianceRating        1   845.99 873.99\n",
            "- ServiceRating         1   847.33 875.33\n",
            "- GroupSize             1   856.45 884.45\n",
            "- FoodRating            1   857.23 885.23\n",
            "- DiningOccasion        2   864.13 890.13\n",
            "- MealType              1   867.28 895.28\n",
            "- LoyaltyProgramMember  1   871.05 899.05\n",
            "- VisitFrequency        3   878.22 902.22\n",
            "- DeliveryOrder         1   875.96 903.96\n",
            "- OnlineReservation     1   896.59 924.59\n"
          ]
        },
        {
          "output_type": "display_data",
          "data": {
            "text/plain": [
              "\n",
              "Call:\n",
              "glm(formula = HighSatisfaction ~ Income + GroupSize + ServiceRating + \n",
              "    FoodRating + AmbianceRating + VisitFrequency + DiningOccasion + \n",
              "    MealType + OnlineReservation + DeliveryOrder + LoyaltyProgramMember, \n",
              "    family = binomial, data = data)\n",
              "\n",
              "Coefficients:\n",
              "                            Estimate Std. Error z value Pr(>|z|)    \n",
              "(Intercept)               -6.501e+00  6.172e-01 -10.534  < 2e-16 ***\n",
              "Income                     1.020e-05  2.427e-06   4.205 2.61e-05 ***\n",
              "GroupSize                 -1.935e-01  3.679e-02  -5.261 1.43e-07 ***\n",
              "ServiceRating              2.852e-01  6.491e-02   4.393 1.12e-05 ***\n",
              "FoodRating                 3.557e-01  6.686e-02   5.320 1.04e-07 ***\n",
              "AmbianceRating             2.685e-01  6.308e-02   4.256 2.08e-05 ***\n",
              "VisitFrequencyMonthly     -9.201e-01  3.339e-01  -2.756  0.00585 ** \n",
              "VisitFrequencyRarely      -1.182e+00  3.718e-01  -3.179  0.00148 ** \n",
              "VisitFrequencyWeekly       3.368e-01  2.910e-01   1.157  0.24716    \n",
              "DiningOccasionCasual       2.093e-01  2.448e-01   0.855  0.39276    \n",
              "DiningOccasionCelebration  1.199e+00  2.217e-01   5.407 6.41e-08 ***\n",
              "MealTypeTakeaway          -1.155e+00  1.901e-01  -6.079 1.21e-09 ***\n",
              "OnlineReservation1         1.534e+00  1.886e-01   8.136 4.08e-16 ***\n",
              "DeliveryOrder1             1.257e+00  1.857e-01   6.769 1.29e-11 ***\n",
              "LoyaltyProgramMember1      1.201e+00  1.887e-01   6.366 1.94e-10 ***\n",
              "---\n",
              "Signif. codes:  0 ‘***’ 0.001 ‘**’ 0.01 ‘*’ 0.05 ‘.’ 0.1 ‘ ’ 1\n",
              "\n",
              "(Dispersion parameter for binomial family taken to be 1)\n",
              "\n",
              "    Null deviance: 1181.76  on 1499  degrees of freedom\n",
              "Residual deviance:  827.23  on 1485  degrees of freedom\n",
              "AIC: 857.23\n",
              "\n",
              "Number of Fisher Scoring iterations: 6\n"
            ]
          },
          "metadata": {}
        }
      ],
      "source": [
        "model_backward1 <- step(data.sederhana, direction = \"backward\")\n",
        "summary(model_backward1)"
      ]
    },
    {
      "cell_type": "code",
      "execution_count": null,
      "metadata": {
        "colab": {
          "base_uri": "https://localhost:8080/",
          "height": 1000
        },
        "id": "FFJ8snI_49Z9",
        "outputId": "fc5fe56f-6c3c-4af0-9997-7c88f1b75890"
      },
      "outputs": [
        {
          "output_type": "stream",
          "name": "stdout",
          "text": [
            "Start:  AIC=867.3\n",
            "HighSatisfaction ~ Income + GroupSize + ServiceRating + FoodRating + \n",
            "    AmbianceRating + VisitFrequency + DiningOccasion + MealType + \n",
            "    OnlineReservation + DeliveryOrder + LoyaltyProgramMember + \n",
            "    Income * GroupSize + ServiceRating * FoodRating + ServiceRating * \n",
            "    DiningOccasion + AmbianceRating * DiningOccasion + VisitFrequency * \n",
            "    LoyaltyProgramMember + GroupSize * ServiceRating + OnlineReservation * \n",
            "    AmbianceRating + MealType * FoodRating + Income * DiningOccasion + \n",
            "    DeliveryOrder * FoodRating + AmbianceRating * FoodRating + \n",
            "    OnlineReservation * DeliveryOrder\n",
            "\n",
            "                                      Df Deviance    AIC\n",
            "- VisitFrequency:LoyaltyProgramMember  3   803.84 861.84\n",
            "- Income:DiningOccasion                2   805.08 865.08\n",
            "- FoodRating:DeliveryOrder             1   803.37 865.37\n",
            "- OnlineReservation:DeliveryOrder      1   803.37 865.37\n",
            "- GroupSize:ServiceRating              1   803.43 865.43\n",
            "- FoodRating:AmbianceRating            1   803.74 865.74\n",
            "- FoodRating:MealType                  1   803.81 865.81\n",
            "- AmbianceRating:OnlineReservation     1   803.98 865.98\n",
            "- Income:GroupSize                     1   804.05 866.05\n",
            "<none>                                     803.30 867.30\n",
            "- ServiceRating:DiningOccasion         2   807.41 867.41\n",
            "- ServiceRating:FoodRating             1   809.39 871.39\n",
            "- AmbianceRating:DiningOccasion        2   812.55 872.55\n",
            "\n",
            "Step:  AIC=861.84\n",
            "HighSatisfaction ~ Income + GroupSize + ServiceRating + FoodRating + \n",
            "    AmbianceRating + VisitFrequency + DiningOccasion + MealType + \n",
            "    OnlineReservation + DeliveryOrder + LoyaltyProgramMember + \n",
            "    Income:GroupSize + ServiceRating:FoodRating + ServiceRating:DiningOccasion + \n",
            "    AmbianceRating:DiningOccasion + GroupSize:ServiceRating + \n",
            "    AmbianceRating:OnlineReservation + FoodRating:MealType + \n",
            "    Income:DiningOccasion + FoodRating:DeliveryOrder + FoodRating:AmbianceRating + \n",
            "    OnlineReservation:DeliveryOrder\n",
            "\n",
            "                                   Df Deviance    AIC\n",
            "- Income:DiningOccasion             2   805.70 859.70\n",
            "- OnlineReservation:DeliveryOrder   1   803.90 859.90\n",
            "- FoodRating:DeliveryOrder          1   803.91 859.91\n",
            "- GroupSize:ServiceRating           1   803.95 859.95\n",
            "- FoodRating:AmbianceRating         1   804.21 860.21\n",
            "- FoodRating:MealType               1   804.32 860.32\n",
            "- AmbianceRating:OnlineReservation  1   804.54 860.54\n",
            "- Income:GroupSize                  1   804.62 860.62\n",
            "<none>                                  803.84 861.84\n",
            "- ServiceRating:DiningOccasion      2   807.85 861.85\n",
            "- ServiceRating:FoodRating          1   809.94 865.94\n",
            "- AmbianceRating:DiningOccasion     2   812.96 866.96\n",
            "- LoyaltyProgramMember              1   850.57 906.57\n",
            "- VisitFrequency                    3   855.90 907.90\n",
            "\n",
            "Step:  AIC=859.7\n",
            "HighSatisfaction ~ Income + GroupSize + ServiceRating + FoodRating + \n",
            "    AmbianceRating + VisitFrequency + DiningOccasion + MealType + \n",
            "    OnlineReservation + DeliveryOrder + LoyaltyProgramMember + \n",
            "    Income:GroupSize + ServiceRating:FoodRating + ServiceRating:DiningOccasion + \n",
            "    AmbianceRating:DiningOccasion + GroupSize:ServiceRating + \n",
            "    AmbianceRating:OnlineReservation + FoodRating:MealType + \n",
            "    FoodRating:DeliveryOrder + FoodRating:AmbianceRating + OnlineReservation:DeliveryOrder\n",
            "\n",
            "                                   Df Deviance    AIC\n",
            "- FoodRating:DeliveryOrder          1   805.78 857.78\n",
            "- GroupSize:ServiceRating           1   805.78 857.78\n",
            "- OnlineReservation:DeliveryOrder   1   805.79 857.79\n",
            "- FoodRating:AmbianceRating         1   806.08 858.08\n",
            "- FoodRating:MealType               1   806.21 858.21\n",
            "- Income:GroupSize                  1   806.43 858.43\n",
            "- AmbianceRating:OnlineReservation  1   806.47 858.47\n",
            "- ServiceRating:DiningOccasion      2   809.59 859.59\n",
            "<none>                                  805.70 859.70\n",
            "- ServiceRating:FoodRating          1   811.20 863.20\n",
            "- AmbianceRating:DiningOccasion     2   814.75 864.75\n",
            "- LoyaltyProgramMember              1   852.49 904.49\n",
            "- VisitFrequency                    3   857.88 905.88\n",
            "\n",
            "Step:  AIC=857.78\n",
            "HighSatisfaction ~ Income + GroupSize + ServiceRating + FoodRating + \n",
            "    AmbianceRating + VisitFrequency + DiningOccasion + MealType + \n",
            "    OnlineReservation + DeliveryOrder + LoyaltyProgramMember + \n",
            "    Income:GroupSize + ServiceRating:FoodRating + ServiceRating:DiningOccasion + \n",
            "    AmbianceRating:DiningOccasion + GroupSize:ServiceRating + \n",
            "    AmbianceRating:OnlineReservation + FoodRating:MealType + \n",
            "    FoodRating:AmbianceRating + OnlineReservation:DeliveryOrder\n",
            "\n",
            "                                   Df Deviance    AIC\n",
            "- OnlineReservation:DeliveryOrder   1   805.85 855.85\n",
            "- GroupSize:ServiceRating           1   805.86 855.86\n",
            "- FoodRating:AmbianceRating         1   806.16 856.16\n",
            "- FoodRating:MealType               1   806.27 856.27\n",
            "- Income:GroupSize                  1   806.49 856.49\n",
            "- AmbianceRating:OnlineReservation  1   806.57 856.57\n",
            "- ServiceRating:DiningOccasion      2   809.63 857.63\n",
            "<none>                                  805.78 857.78\n",
            "- ServiceRating:FoodRating          1   811.35 861.35\n",
            "- AmbianceRating:DiningOccasion     2   814.90 862.90\n",
            "- LoyaltyProgramMember              1   852.88 902.88\n",
            "- VisitFrequency                    3   858.15 904.15\n",
            "\n",
            "Step:  AIC=855.85\n",
            "HighSatisfaction ~ Income + GroupSize + ServiceRating + FoodRating + \n",
            "    AmbianceRating + VisitFrequency + DiningOccasion + MealType + \n",
            "    OnlineReservation + DeliveryOrder + LoyaltyProgramMember + \n",
            "    Income:GroupSize + ServiceRating:FoodRating + ServiceRating:DiningOccasion + \n",
            "    AmbianceRating:DiningOccasion + GroupSize:ServiceRating + \n",
            "    AmbianceRating:OnlineReservation + FoodRating:MealType + \n",
            "    FoodRating:AmbianceRating\n",
            "\n",
            "                                   Df Deviance    AIC\n",
            "- GroupSize:ServiceRating           1   805.92 853.92\n",
            "- FoodRating:AmbianceRating         1   806.22 854.22\n",
            "- FoodRating:MealType               1   806.35 854.35\n",
            "- Income:GroupSize                  1   806.58 854.58\n",
            "- AmbianceRating:OnlineReservation  1   806.65 854.65\n",
            "- ServiceRating:DiningOccasion      2   809.67 855.67\n",
            "<none>                                  805.85 855.85\n",
            "- ServiceRating:FoodRating          1   811.44 859.44\n",
            "- AmbianceRating:DiningOccasion     2   815.02 861.02\n",
            "- LoyaltyProgramMember              1   852.95 900.95\n",
            "- DeliveryOrder                     1   853.61 901.61\n",
            "- VisitFrequency                    3   858.18 902.18\n",
            "\n",
            "Step:  AIC=853.92\n",
            "HighSatisfaction ~ Income + GroupSize + ServiceRating + FoodRating + \n",
            "    AmbianceRating + VisitFrequency + DiningOccasion + MealType + \n",
            "    OnlineReservation + DeliveryOrder + LoyaltyProgramMember + \n",
            "    Income:GroupSize + ServiceRating:FoodRating + ServiceRating:DiningOccasion + \n",
            "    AmbianceRating:DiningOccasion + AmbianceRating:OnlineReservation + \n",
            "    FoodRating:MealType + FoodRating:AmbianceRating\n",
            "\n",
            "                                   Df Deviance    AIC\n",
            "- FoodRating:AmbianceRating         1   806.31 852.31\n",
            "- FoodRating:MealType               1   806.42 852.42\n",
            "- Income:GroupSize                  1   806.63 852.63\n",
            "- AmbianceRating:OnlineReservation  1   806.76 852.76\n",
            "- ServiceRating:DiningOccasion      2   809.78 853.78\n",
            "<none>                                  805.92 853.92\n",
            "- ServiceRating:FoodRating          1   811.47 857.47\n",
            "- AmbianceRating:DiningOccasion     2   815.05 859.05\n",
            "- LoyaltyProgramMember              1   852.95 898.95\n",
            "- DeliveryOrder                     1   853.62 899.62\n",
            "- VisitFrequency                    3   858.26 900.26\n",
            "\n",
            "Step:  AIC=852.31\n",
            "HighSatisfaction ~ Income + GroupSize + ServiceRating + FoodRating + \n",
            "    AmbianceRating + VisitFrequency + DiningOccasion + MealType + \n",
            "    OnlineReservation + DeliveryOrder + LoyaltyProgramMember + \n",
            "    Income:GroupSize + ServiceRating:FoodRating + ServiceRating:DiningOccasion + \n",
            "    AmbianceRating:DiningOccasion + AmbianceRating:OnlineReservation + \n",
            "    FoodRating:MealType\n",
            "\n",
            "                                   Df Deviance    AIC\n",
            "- FoodRating:MealType               1   806.76 850.76\n",
            "- Income:GroupSize                  1   806.99 850.99\n",
            "- AmbianceRating:OnlineReservation  1   807.21 851.21\n",
            "- ServiceRating:DiningOccasion      2   810.19 852.19\n",
            "<none>                                  806.31 852.31\n",
            "- ServiceRating:FoodRating          1   811.98 855.98\n",
            "- AmbianceRating:DiningOccasion     2   815.41 857.41\n",
            "- LoyaltyProgramMember              1   853.75 897.75\n",
            "- DeliveryOrder                     1   853.94 897.94\n",
            "- VisitFrequency                    3   858.41 898.41\n",
            "\n",
            "Step:  AIC=850.76\n",
            "HighSatisfaction ~ Income + GroupSize + ServiceRating + FoodRating + \n",
            "    AmbianceRating + VisitFrequency + DiningOccasion + MealType + \n",
            "    OnlineReservation + DeliveryOrder + LoyaltyProgramMember + \n",
            "    Income:GroupSize + ServiceRating:FoodRating + ServiceRating:DiningOccasion + \n",
            "    AmbianceRating:DiningOccasion + AmbianceRating:OnlineReservation\n",
            "\n",
            "                                   Df Deviance    AIC\n",
            "- Income:GroupSize                  1   807.39 849.39\n",
            "- AmbianceRating:OnlineReservation  1   807.66 849.66\n",
            "- ServiceRating:DiningOccasion      2   810.72 850.72\n",
            "<none>                                  806.76 850.76\n",
            "- ServiceRating:FoodRating          1   812.41 854.41\n",
            "- AmbianceRating:DiningOccasion     2   815.87 855.87\n",
            "- MealType                          1   851.53 893.53\n",
            "- LoyaltyProgramMember              1   854.21 896.21\n",
            "- DeliveryOrder                     1   854.66 896.66\n",
            "- VisitFrequency                    3   858.69 896.69\n",
            "\n",
            "Step:  AIC=849.39\n",
            "HighSatisfaction ~ Income + GroupSize + ServiceRating + FoodRating + \n",
            "    AmbianceRating + VisitFrequency + DiningOccasion + MealType + \n",
            "    OnlineReservation + DeliveryOrder + LoyaltyProgramMember + \n",
            "    ServiceRating:FoodRating + ServiceRating:DiningOccasion + \n",
            "    AmbianceRating:DiningOccasion + AmbianceRating:OnlineReservation\n",
            "\n",
            "                                   Df Deviance    AIC\n",
            "- AmbianceRating:OnlineReservation  1   808.32 848.32\n",
            "- ServiceRating:DiningOccasion      2   811.26 849.26\n",
            "<none>                                  807.39 849.39\n",
            "- ServiceRating:FoodRating          1   812.85 852.85\n",
            "- AmbianceRating:DiningOccasion     2   816.58 854.58\n",
            "- Income                            1   824.58 864.58\n",
            "- GroupSize                         1   837.52 877.52\n",
            "- MealType                          1   851.69 891.69\n",
            "- LoyaltyProgramMember              1   854.64 894.64\n",
            "- VisitFrequency                    3   859.13 895.13\n",
            "- DeliveryOrder                     1   855.20 895.20\n",
            "\n",
            "Step:  AIC=848.32\n",
            "HighSatisfaction ~ Income + GroupSize + ServiceRating + FoodRating + \n",
            "    AmbianceRating + VisitFrequency + DiningOccasion + MealType + \n",
            "    OnlineReservation + DeliveryOrder + LoyaltyProgramMember + \n",
            "    ServiceRating:FoodRating + ServiceRating:DiningOccasion + \n",
            "    AmbianceRating:DiningOccasion\n",
            "\n",
            "                                Df Deviance    AIC\n",
            "- ServiceRating:DiningOccasion   2   812.30 848.30\n",
            "<none>                               808.32 848.32\n",
            "- ServiceRating:FoodRating       1   813.62 851.62\n",
            "- AmbianceRating:DiningOccasion  2   817.32 853.32\n",
            "- Income                         1   825.55 863.55\n",
            "- GroupSize                      1   837.99 875.99\n",
            "- MealType                       1   852.14 890.14\n",
            "- LoyaltyProgramMember           1   855.48 893.48\n",
            "- VisitFrequency                 3   860.01 894.01\n",
            "- DeliveryOrder                  1   856.16 894.16\n",
            "- OnlineReservation              1   878.77 916.77\n",
            "\n",
            "Step:  AIC=848.3\n",
            "HighSatisfaction ~ Income + GroupSize + ServiceRating + FoodRating + \n",
            "    AmbianceRating + VisitFrequency + DiningOccasion + MealType + \n",
            "    OnlineReservation + DeliveryOrder + LoyaltyProgramMember + \n",
            "    ServiceRating:FoodRating + AmbianceRating:DiningOccasion\n",
            "\n",
            "                                Df Deviance    AIC\n",
            "<none>                               812.30 848.30\n",
            "- ServiceRating:FoodRating       1   817.26 851.26\n",
            "- AmbianceRating:DiningOccasion  2   822.60 854.60\n",
            "- Income                         1   829.77 863.77\n",
            "- GroupSize                      1   842.58 876.58\n",
            "- MealType                       1   854.67 888.67\n",
            "- LoyaltyProgramMember           1   858.02 892.02\n",
            "- VisitFrequency                 3   865.08 895.08\n",
            "- DeliveryOrder                  1   861.61 895.61\n",
            "- OnlineReservation              1   881.18 915.18\n"
          ]
        },
        {
          "output_type": "display_data",
          "data": {
            "text/plain": [
              "\n",
              "Call:\n",
              "glm(formula = HighSatisfaction ~ Income + GroupSize + ServiceRating + \n",
              "    FoodRating + AmbianceRating + VisitFrequency + DiningOccasion + \n",
              "    MealType + OnlineReservation + DeliveryOrder + LoyaltyProgramMember + \n",
              "    ServiceRating:FoodRating + AmbianceRating:DiningOccasion, \n",
              "    family = binomial, data = data)\n",
              "\n",
              "Coefficients:\n",
              "                                           Estimate Std. Error z value Pr(>|z|)\n",
              "(Intercept)                              -6.670e+00  9.080e-01  -7.346 2.05e-13\n",
              "Income                                    1.006e-05  2.450e-06   4.108 4.00e-05\n",
              "GroupSize                                -1.977e-01  3.699e-02  -5.346 8.99e-08\n",
              "ServiceRating                            -3.544e-02  1.650e-01  -0.215  0.82995\n",
              "FoodRating                                3.563e-02  1.577e-01   0.226  0.82128\n",
              "AmbianceRating                            6.060e-01  1.371e-01   4.419 9.93e-06\n",
              "VisitFrequencyMonthly                    -9.121e-01  3.352e-01  -2.721  0.00650\n",
              "VisitFrequencyRarely                     -1.194e+00  3.741e-01  -3.191  0.00142\n",
              "VisitFrequencyWeekly                      3.746e-01  2.925e-01   1.281  0.20037\n",
              "DiningOccasionCasual                      2.110e+00  6.750e-01   3.127  0.00177\n",
              "DiningOccasionCelebration                 2.425e+00  6.114e-01   3.967 7.28e-05\n",
              "MealTypeTakeaway                         -1.207e+00  1.935e-01  -6.236 4.50e-10\n",
              "OnlineReservation1                        1.544e+00  1.908e-01   8.093 5.82e-16\n",
              "DeliveryOrder1                            1.278e+00  1.879e-01   6.799 1.05e-11\n",
              "LoyaltyProgramMember1                     1.242e+00  1.916e-01   6.483 8.97e-11\n",
              "ServiceRating:FoodRating                  1.014e-01  4.553e-02   2.227  0.02593\n",
              "AmbianceRating:DiningOccasionCasual      -5.678e-01  1.827e-01  -3.108  0.00188\n",
              "AmbianceRating:DiningOccasionCelebration -3.618e-01  1.625e-01  -2.226  0.02601\n",
              "                                            \n",
              "(Intercept)                              ***\n",
              "Income                                   ***\n",
              "GroupSize                                ***\n",
              "ServiceRating                               \n",
              "FoodRating                                  \n",
              "AmbianceRating                           ***\n",
              "VisitFrequencyMonthly                    ** \n",
              "VisitFrequencyRarely                     ** \n",
              "VisitFrequencyWeekly                        \n",
              "DiningOccasionCasual                     ** \n",
              "DiningOccasionCelebration                ***\n",
              "MealTypeTakeaway                         ***\n",
              "OnlineReservation1                       ***\n",
              "DeliveryOrder1                           ***\n",
              "LoyaltyProgramMember1                    ***\n",
              "ServiceRating:FoodRating                 *  \n",
              "AmbianceRating:DiningOccasionCasual      ** \n",
              "AmbianceRating:DiningOccasionCelebration *  \n",
              "---\n",
              "Signif. codes:  0 ‘***’ 0.001 ‘**’ 0.01 ‘*’ 0.05 ‘.’ 0.1 ‘ ’ 1\n",
              "\n",
              "(Dispersion parameter for binomial family taken to be 1)\n",
              "\n",
              "    Null deviance: 1181.8  on 1499  degrees of freedom\n",
              "Residual deviance:  812.3  on 1482  degrees of freedom\n",
              "AIC: 848.3\n",
              "\n",
              "Number of Fisher Scoring iterations: 6\n"
            ]
          },
          "metadata": {}
        }
      ],
      "source": [
        "model_backward2 <- step(data.full_model, direction = \"backward\")\n",
        "summary(model_backward2)"
      ]
    },
    {
      "cell_type": "markdown",
      "metadata": {
        "id": "viB7xSLN5jPF"
      },
      "source": [
        "## Uji Anova"
      ]
    },
    {
      "cell_type": "code",
      "execution_count": null,
      "metadata": {
        "colab": {
          "base_uri": "https://localhost:8080/",
          "height": 230
        },
        "id": "XO8NCXLWU2S8",
        "outputId": "d5575bec-58c2-4440-b407-f5d583d64c56"
      },
      "outputs": [
        {
          "output_type": "stream",
          "name": "stdout",
          "text": [
            "\n",
            "\n",
            "\n",
            "Membandingkan data.sederhana dengan data.full_model\n"
          ]
        },
        {
          "output_type": "display_data",
          "data": {
            "text/html": [
              "<table class=\"dataframe\">\n",
              "<caption>A anova: 2 × 5</caption>\n",
              "<thead>\n",
              "\t<tr><th></th><th scope=col>Resid. Df</th><th scope=col>Resid. Dev</th><th scope=col>Df</th><th scope=col>Deviance</th><th scope=col>Pr(&gt;Chi)</th></tr>\n",
              "\t<tr><th></th><th scope=col>&lt;dbl&gt;</th><th scope=col>&lt;dbl&gt;</th><th scope=col>&lt;dbl&gt;</th><th scope=col>&lt;dbl&gt;</th><th scope=col>&lt;dbl&gt;</th></tr>\n",
              "</thead>\n",
              "<tbody>\n",
              "\t<tr><th scope=row>1</th><td>1485</td><td>827.2263</td><td>NA</td><td>      NA</td><td>         NA</td></tr>\n",
              "\t<tr><th scope=row>2</th><td>1482</td><td>812.3020</td><td> 3</td><td>14.92434</td><td>0.001882458</td></tr>\n",
              "</tbody>\n",
              "</table>\n"
            ],
            "text/markdown": "\nA anova: 2 × 5\n\n| <!--/--> | Resid. Df &lt;dbl&gt; | Resid. Dev &lt;dbl&gt; | Df &lt;dbl&gt; | Deviance &lt;dbl&gt; | Pr(&gt;Chi) &lt;dbl&gt; |\n|---|---|---|---|---|---|\n| 1 | 1485 | 827.2263 | NA |       NA |          NA |\n| 2 | 1482 | 812.3020 |  3 | 14.92434 | 0.001882458 |\n\n",
            "text/latex": "A anova: 2 × 5\n\\begin{tabular}{r|lllll}\n  & Resid. Df & Resid. Dev & Df & Deviance & Pr(>Chi)\\\\\n  & <dbl> & <dbl> & <dbl> & <dbl> & <dbl>\\\\\n\\hline\n\t1 & 1485 & 827.2263 & NA &       NA &          NA\\\\\n\t2 & 1482 & 812.3020 &  3 & 14.92434 & 0.001882458\\\\\n\\end{tabular}\n",
            "text/plain": [
              "  Resid. Df Resid. Dev Df Deviance Pr(>Chi)   \n",
              "1 1485      827.2263   NA       NA          NA\n",
              "2 1482      812.3020    3 14.92434 0.001882458"
            ]
          },
          "metadata": {}
        }
      ],
      "source": [
        "# Membandingkan model-model yang ada dengan keterangan\n",
        "cat(\"\\n\\n\\nMembandingkan data.sederhana dengan data.full_model\\n\")\n",
        "anova(model_backward1, model_backward2, test = \"Chisq\")"
      ]
    },
    {
      "cell_type": "markdown",
      "metadata": {
        "id": "2WBiT9x9yKr_"
      },
      "source": [
        "Berdasarkan hasil uji anova didapatkan p-value 0.001882458 < tingkat signifikansi (0.05) maka tolak H0, sehingga model_backward2 lebih baik."
      ]
    },
    {
      "cell_type": "code",
      "execution_count": null,
      "metadata": {
        "colab": {
          "base_uri": "https://localhost:8080/",
          "height": 1000
        },
        "id": "Yq8srxVH65z_",
        "outputId": "aea80e1f-a8ad-4f96-b29b-a175bbe48c26"
      },
      "outputs": [
        {
          "output_type": "display_data",
          "data": {
            "text/plain": [
              "\n",
              "Call:\n",
              "glm(formula = HighSatisfaction ~ Income + GroupSize + ServiceRating + \n",
              "    FoodRating + AmbianceRating + VisitFrequency + DiningOccasion + \n",
              "    MealType + OnlineReservation + DeliveryOrder + LoyaltyProgramMember + \n",
              "    ServiceRating:FoodRating + AmbianceRating:DiningOccasion, \n",
              "    family = binomial, data = data)\n",
              "\n",
              "Coefficients:\n",
              "                                           Estimate Std. Error z value Pr(>|z|)\n",
              "(Intercept)                              -6.670e+00  9.080e-01  -7.346 2.05e-13\n",
              "Income                                    1.006e-05  2.450e-06   4.108 4.00e-05\n",
              "GroupSize                                -1.977e-01  3.699e-02  -5.346 8.99e-08\n",
              "ServiceRating                            -3.544e-02  1.650e-01  -0.215  0.82995\n",
              "FoodRating                                3.563e-02  1.577e-01   0.226  0.82128\n",
              "AmbianceRating                            6.060e-01  1.371e-01   4.419 9.93e-06\n",
              "VisitFrequencyMonthly                    -9.121e-01  3.352e-01  -2.721  0.00650\n",
              "VisitFrequencyRarely                     -1.194e+00  3.741e-01  -3.191  0.00142\n",
              "VisitFrequencyWeekly                      3.746e-01  2.925e-01   1.281  0.20037\n",
              "DiningOccasionCasual                      2.110e+00  6.750e-01   3.127  0.00177\n",
              "DiningOccasionCelebration                 2.425e+00  6.114e-01   3.967 7.28e-05\n",
              "MealTypeTakeaway                         -1.207e+00  1.935e-01  -6.236 4.50e-10\n",
              "OnlineReservation1                        1.544e+00  1.908e-01   8.093 5.82e-16\n",
              "DeliveryOrder1                            1.278e+00  1.879e-01   6.799 1.05e-11\n",
              "LoyaltyProgramMember1                     1.242e+00  1.916e-01   6.483 8.97e-11\n",
              "ServiceRating:FoodRating                  1.014e-01  4.553e-02   2.227  0.02593\n",
              "AmbianceRating:DiningOccasionCasual      -5.678e-01  1.827e-01  -3.108  0.00188\n",
              "AmbianceRating:DiningOccasionCelebration -3.618e-01  1.625e-01  -2.226  0.02601\n",
              "                                            \n",
              "(Intercept)                              ***\n",
              "Income                                   ***\n",
              "GroupSize                                ***\n",
              "ServiceRating                               \n",
              "FoodRating                                  \n",
              "AmbianceRating                           ***\n",
              "VisitFrequencyMonthly                    ** \n",
              "VisitFrequencyRarely                     ** \n",
              "VisitFrequencyWeekly                        \n",
              "DiningOccasionCasual                     ** \n",
              "DiningOccasionCelebration                ***\n",
              "MealTypeTakeaway                         ***\n",
              "OnlineReservation1                       ***\n",
              "DeliveryOrder1                           ***\n",
              "LoyaltyProgramMember1                    ***\n",
              "ServiceRating:FoodRating                 *  \n",
              "AmbianceRating:DiningOccasionCasual      ** \n",
              "AmbianceRating:DiningOccasionCelebration *  \n",
              "---\n",
              "Signif. codes:  0 ‘***’ 0.001 ‘**’ 0.01 ‘*’ 0.05 ‘.’ 0.1 ‘ ’ 1\n",
              "\n",
              "(Dispersion parameter for binomial family taken to be 1)\n",
              "\n",
              "    Null deviance: 1181.8  on 1499  degrees of freedom\n",
              "Residual deviance:  812.3  on 1482  degrees of freedom\n",
              "AIC: 848.3\n",
              "\n",
              "Number of Fisher Scoring iterations: 6\n"
            ]
          },
          "metadata": {}
        }
      ],
      "source": [
        "summary(model_backward2)"
      ]
    },
    {
      "cell_type": "markdown",
      "metadata": {
        "id": "3u59fVVtYbpY"
      },
      "source": [
        "# Evaluasi Model"
      ]
    },
    {
      "cell_type": "markdown",
      "metadata": {
        "id": "aLLosVvgTyLX"
      },
      "source": [
        "### Hosmer-Lemeshow Test\n",
        "\n",
        "Menguji apakah model regresi logistik yang dibangun memprediksi data dengan baik. Ini adalah uji goodness-of-fit yang memeriksa apakah model cocok dengan data yang sebenarnya. P-value > 0.05 berarti model cocok dengan data, P-value < 0.05 berarti model tidak cocok."
      ]
    },
    {
      "cell_type": "code",
      "execution_count": null,
      "metadata": {
        "colab": {
          "base_uri": "https://localhost:8080/"
        },
        "id": "5sLDYdiciUxE",
        "outputId": "5caa34e3-35ea-484b-a362-71de7d3650bb"
      },
      "outputs": [
        {
          "output_type": "stream",
          "name": "stdout",
          "text": [
            "Hosmer-Lemeshow Test:\n",
            "\n",
            "\tHosmer and Lemeshow goodness of fit (GOF) test\n",
            "\n",
            "data:  data$HighSatisfaction, fitted(model_backward2)\n",
            "X-squared = 42.9, df = 8, p-value = 9.173e-07\n",
            "\n"
          ]
        }
      ],
      "source": [
        "data$HighSatisfaction <- as.numeric(as.character(data$HighSatisfaction))\n",
        "# Melakukan uji Hosmer-Lemeshow\n",
        "hoslem_test <- hoslem.test(data$HighSatisfaction, fitted(model_backward2), g = 10)\n",
        "\n",
        "cat(\"Hosmer-Lemeshow Test:\\n\")\n",
        "print(hoslem_test)"
      ]
    },
    {
      "cell_type": "markdown",
      "metadata": {
        "id": "WSNVc3IhZyU8"
      },
      "source": [
        "### Tabel Klasifikasi"
      ]
    },
    {
      "cell_type": "code",
      "execution_count": null,
      "metadata": {
        "colab": {
          "base_uri": "https://localhost:8080/"
        },
        "id": "h_vSchIDZ2Oj",
        "outputId": "863edc8b-9afa-4b46-ae78-a5bc7055a0c2"
      },
      "outputs": [
        {
          "output_type": "stream",
          "name": "stdout",
          "text": [
            "Confusion Matrix:\n",
            "         Actual\n",
            "Predicted    0    1\n",
            "        0 1273  117\n",
            "        1   26   84\n",
            "Accuracy: 0.9046667 \n"
          ]
        }
      ],
      "source": [
        "# Membuat prediksi berdasarkan threshold\n",
        "threshold <- 0.5\n",
        "predicted <- ifelse(fitted(model_backward2) > threshold, 1, 0)\n",
        "\n",
        "# Membuat tabel klasifikasi\n",
        "conf_matrix <- table(Predicted = predicted, Actual = data$HighSatisfaction)\n",
        "cat(\"Confusion Matrix:\\n\")\n",
        "print(conf_matrix)\n",
        "\n",
        "# Menghitung akurasi\n",
        "accuracy <- sum(diag(conf_matrix)) / sum(conf_matrix)\n",
        "cat(\"Accuracy:\", accuracy, \"\\n\")\n"
      ]
    },
    {
      "cell_type": "markdown",
      "metadata": {
        "id": "2JOFIkPWKsV2"
      },
      "source": [
        "### Kurva ROC"
      ]
    },
    {
      "cell_type": "code",
      "execution_count": null,
      "metadata": {
        "colab": {
          "base_uri": "https://localhost:8080/",
          "height": 697
        },
        "id": "H6t9Cm0-KsvY",
        "outputId": "148da996-5fa1-41df-bb75-bccec0a69f68"
      },
      "outputs": [
        {
          "output_type": "stream",
          "name": "stderr",
          "text": [
            "Type 'citation(\"pROC\")' for a citation.\n",
            "\n",
            "\n",
            "Attaching package: ‘pROC’\n",
            "\n",
            "\n",
            "The following objects are masked from ‘package:stats’:\n",
            "\n",
            "    cov, smooth, var\n",
            "\n",
            "\n",
            "Setting levels: control = 0, case = 1\n",
            "\n",
            "Setting direction: controls < cases\n",
            "\n"
          ]
        },
        {
          "output_type": "display_data",
          "data": {
            "text/plain": [
              "Plot with title “ROC Curve for model_backward2”"
            ],
            "image/png": "[encoded data removed]"
          },
          "metadata": {
            "image/png": {
              "width": 420,
              "height": 420
            }
          }
        }
      ],
      "source": [
        "# Memuat library pROC\n",
        "library(pROC)\n",
        "\n",
        "# Membuat ROC Curve\n",
        "roc_curve <- roc(data$HighSatisfaction, fitted(model_backward2))\n",
        "plot.roc(roc_curve, main = \"ROC Curve for model_backward2\", print.auc = TRUE, legacy.axes = TRUE)\n"
      ]
    },
    {
      "cell_type": "code",
      "execution_count": null,
      "metadata": {
        "id": "qpRV3CKJyUJA"
      },
      "outputs": [],
      "source": []
    }
  ],
  "metadata": {
    "colab": {
      "provenance": [],
      "toc_visible": true
    },
    "kernelspec": {
      "display_name": "R",
      "name": "ir"
    },
    "language_info": {
      "name": "R"
    }
  },
  "nbformat": 4,
  "nbformat_minor": 0
}